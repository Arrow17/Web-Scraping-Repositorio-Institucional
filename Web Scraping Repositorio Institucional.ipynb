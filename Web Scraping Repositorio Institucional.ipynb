{
 "cells": [
  {
   "cell_type": "code",
   "execution_count": 17,
   "id": "59048daf",
   "metadata": {},
   "outputs": [],
   "source": [
    "from selenium import webdriver\n",
    "from selenium.webdriver.chrome.service import Service\n",
    "from requests_html import HTMLSession #Deja scrapear la pagina ya que envia solicitudes a la misma\n",
    "from bs4 import BeautifulSoup\n",
    "from selenium.webdriver.common.keys import Keys\n",
    "\n",
    "import requests\n",
    "import pandas as pd\n",
    "import time\n",
    "import zipfile\n",
    "import os"
   ]
  },
  {
   "cell_type": "code",
   "execution_count": 50,
   "id": "6bb9d42a",
   "metadata": {},
   "outputs": [
    {
     "name": "stdout",
     "output_type": "stream",
     "text": [
      "                                                title  \\\n",
      "0   \\nSistema de buenas prácticas de manufactura (...   \n",
      "1   \\nImplementación del sistema interno de gestió...   \n",
      "2   \\nEfecto del tiempo de congelación y temperatu...   \n",
      "3   \\nRelación entre el tiempo de almacenamiento y...   \n",
      "4   \\nInfluencia de la concentración de extracto d...   \n",
      "5   \\nEstudio de prefactibilidad para la instalaci...   \n",
      "6   \\nEfecto de la concentración de CMC, gelatina ...   \n",
      "7   \\nEfecto de la concentración de enzimas pectól...   \n",
      "8   \\nPlan de negocio para mejorar la producción y...   \n",
      "9   \\nInfluencia de la dilución y tiempo de pasteu...   \n",
      "10  \\nEfecto de la velocidad de agitación magnétic...   \n",
      "11  \\nInfluencia del tiempo de aireación, concentr...   \n",
      "12  \\nEstudio de prefactibilidad para la instalaci...   \n",
      "13  \\nCinética de secado de hojas de Leucaena leuc...   \n",
      "14  \\nInfluencia del tiempo de escaldado y concent...   \n",
      "15  \\nEfecto de la concentración de proteasa en la...   \n",
      "16  \\nEfecto de la dilución y concentración de car...   \n",
      "17  \\nEfecto de dos enmiendas cálcicas y dos abono...   \n",
      "18  \\nEvaluación del tiempo de fermentación, porce...   \n",
      "19  \\nEvaluación del rendimiento en la elaboración...   \n",
      "\n",
      "                                                 info  \\\n",
      "0   \\nBacalla Chávez, Elmer Joel (Universidad Naci...   \n",
      "1   \\nArévalo Olano, Jaime David (Universidad Naci...   \n",
      "2   \\nHerrera López, Emily Esther; Ruiz Yóplac, Lo...   \n",
      "3   \\nCanta Briceño, Liliana del Pilar (Universida...   \n",
      "4   \\nChuquizuta Yalta, Lesli Banesa; Gongora Roja...   \n",
      "5   \\nRojas Chappa, Heins Edmeé; Yomona Hidalgo, M...   \n",
      "6   \\nPelaéz Muñoz, Francisco; Vásquez Díaz, César...   \n",
      "7   \\nVargas Molinary, Marco Eric (Universidad Nac...   \n",
      "8   \\nGuevara Alvarado, Hada María (Universidad Na...   \n",
      "9   \\nMori Mestanza, Diner; López Muijahuanca,  Jo...   \n",
      "10  \\nArista Inga, Lliner Sergio; Cruz Caro, Omer ...   \n",
      "11  \\nRojas Soplín, Auver Abel; Rojas Soplín, Eule...   \n",
      "12  \\nArellanos Maicelo, Carlos Alberto; Bustamant...   \n",
      "13  \\nMontoya Abanto, Zeyner Omar; Reis Vargas, Ju...   \n",
      "14  \\nChávez Valqui, Hernán (Universidad Nacional ...   \n",
      "15  \\nMendoza Mestanza, Robert; López Grández, Mar...   \n",
      "16  \\nGutiérrez Bazán, Nélida; Segil Huepa, Elizab...   \n",
      "17  \\nJuarez Contreras, Lily del Pilar (Universida...   \n",
      "18  \\nTorres Silva, Delia Orfelina; Chávez Muñoz, ...   \n",
      "19  \\nVargas Ramos, Jhuselly Ysabel; Vigo Portocar...   \n",
      "\n",
      "                                             abstract  \n",
      "0   Las  Buenas Prácticas de Manufactura (BPM) son...  \n",
      "1   El presente trabajo de investigación se desarr...  \n",
      "2   En la presente investigación se estudió el efe...  \n",
      "3   La presente tesis tiene como objetivo el evalu...  \n",
      "4   El presente trabajo de investigación tuvo por ...  \n",
      "5   El proyecto inició con el estudio de mercado d...  \n",
      "6   En la presente investigación se evaluó el efec...  \n",
      "7   En la presente investigación, se estudió el ef...  \n",
      "8   La Asociación de Productores Agropecuarios del...  \n",
      "9   La presente investigación tuvo por objetivo ev...  \n",
      "10  En la presente investigación se determinó el e...  \n",
      "11  Este trabajo de investigación tuvo como objeti...  \n",
      "12  El diseño de planta agroindustrial que se pres...  \n",
      "13  Leucaena leucocephala \"leucaena\", es una legum...  \n",
      "14  El enconfitado de sábila es un producto energé...  \n",
      "15  En el presente trabajo se evalúo el efecto de ...  \n",
      "16  Efecto de la dilución y concentración de carbo...  \n",
      "17  Efecto de dos enmiendas cálcicas y dos abonos ...  \n",
      "18  La investigación tuvo por objetivo evaluar los...  \n",
      "19  La investigación tuvo por objetivo evaluar el ...  \n"
     ]
    }
   ],
   "source": [
    "\n",
    "#Llamando a la pagina web y con eso se abre el navegador\n",
    "url = 'https://repositorio.untrm.edu.pe/handle/20.500.14077/1130/recent-submissions?offset=280'\n",
    "\n",
    "#Obtenemos datos de la pagina\n",
    "response = requests.get(url)\n",
    "\n",
    "#Creo una variable con el contenido\n",
    "content = response.text\n",
    "\n",
    "#Luego el parser para leer lo que hemos impreso y ahora ya podemos extraer la data\n",
    "soup = BeautifulSoup(content, 'lxml')\n",
    "\n",
    "matches = soup.find_all('div', 'artifact-description')\n",
    "\n",
    "#Creando contenedores para los datos obtenidos que son listas\n",
    "title = []\n",
    "info = []\n",
    "abstract = []\n",
    "\n",
    "#Bucle para la obtencion del texto\n",
    "for match in matches:\n",
    "    title.append(match.find('h4', 'artifact-title').get_text()) #Se almacena la data dentro de la lista home\n",
    "    info.append(match.find('div', 'artifact-info').get_text())\n",
    "    abstract.append(match.find('div', 'artifact-abstract').get_text())\n",
    "\n",
    "#Lo colocaremos en un dataframe usando pandas creando un diccionario con los elementos las listas que capturamos\n",
    "dict_info = {'title': title, 'info': info, 'abstract': abstract}\n",
    "\n",
    "df_info = pd.DataFrame(dict_info)\n",
    "print(df_info)\n",
    "df_info.to_excel('ingeni281-300.xlsx')"
   ]
  },
  {
   "cell_type": "code",
   "execution_count": 23,
   "id": "3c72bbea",
   "metadata": {},
   "outputs": [
    {
     "data": {
      "text/plain": [
       "'C:\\\\Users\\\\pc'"
      ]
     },
     "execution_count": 23,
     "metadata": {},
     "output_type": "execute_result"
    }
   ],
   "source": []
  },
  {
   "cell_type": "code",
   "execution_count": null,
   "id": "288a5603",
   "metadata": {},
   "outputs": [],
   "source": []
  }
 ],
 "metadata": {
  "kernelspec": {
   "display_name": "Python 3 (ipykernel)",
   "language": "python",
   "name": "python3"
  },
  "language_info": {
   "codemirror_mode": {
    "name": "ipython",
    "version": 3
   },
   "file_extension": ".py",
   "mimetype": "text/x-python",
   "name": "python",
   "nbconvert_exporter": "python",
   "pygments_lexer": "ipython3",
   "version": "3.9.12"
  }
 },
 "nbformat": 4,
 "nbformat_minor": 5
}
